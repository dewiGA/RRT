{
 "cells": [
  {
   "cell_type": "code",
   "execution_count": 1,
   "metadata": {
    "colab": {
     "base_uri": "https://localhost:8080/"
    },
    "collapsed": true,
    "id": "L1zoPeS6nwOn",
    "jupyter": {
     "outputs_hidden": true
    },
    "outputId": "8fa23f53-cd4f-4093-e595-0005b7873ac7"
   },
   "outputs": [
    {
     "name": "stdout",
     "output_type": "stream",
     "text": [
      "Requirement already satisfied: pandas in /usr/local/lib/python3.11/dist-packages (2.2.2)\n",
      "Requirement already satisfied: openpyxl in /usr/local/lib/python3.11/dist-packages (3.1.5)\n",
      "Collecting xlsxwriter\n",
      "  Downloading xlsxwriter-3.2.5-py3-none-any.whl.metadata (2.7 kB)\n",
      "Requirement already satisfied: numpy>=1.23.2 in /usr/local/lib/python3.11/dist-packages (from pandas) (2.0.2)\n",
      "Requirement already satisfied: python-dateutil>=2.8.2 in /usr/local/lib/python3.11/dist-packages (from pandas) (2.9.0.post0)\n",
      "Requirement already satisfied: pytz>=2020.1 in /usr/local/lib/python3.11/dist-packages (from pandas) (2025.2)\n",
      "Requirement already satisfied: tzdata>=2022.7 in /usr/local/lib/python3.11/dist-packages (from pandas) (2025.2)\n",
      "Requirement already satisfied: et-xmlfile in /usr/local/lib/python3.11/dist-packages (from openpyxl) (2.0.0)\n",
      "Requirement already satisfied: six>=1.5 in /usr/local/lib/python3.11/dist-packages (from python-dateutil>=2.8.2->pandas) (1.17.0)\n",
      "Downloading xlsxwriter-3.2.5-py3-none-any.whl (172 kB)\n",
      "\u001b[2K   \u001b[90m━━━━━━━━━━━━━━━━━━━━━━━━━━━━━━━━━━━━━━━━\u001b[0m \u001b[32m172.3/172.3 kB\u001b[0m \u001b[31m3.4 MB/s\u001b[0m eta \u001b[36m0:00:00\u001b[0m\n",
      "\u001b[?25hInstalling collected packages: xlsxwriter\n",
      "Successfully installed xlsxwriter-3.2.5\n"
     ]
    }
   ],
   "source": [
    "!pip install pandas openpyxl xlsxwriter"
   ]
  },
  {
   "cell_type": "code",
   "execution_count": 2,
   "metadata": {
    "colab": {
     "base_uri": "https://localhost:8080/",
     "height": 129
    },
    "collapsed": true,
    "id": "CQo2zpqzpQ-l",
    "jupyter": {
     "outputs_hidden": true
    },
    "outputId": "a1700b66-67a3-4a30-eaf3-1487cdc7538d"
   },
   "outputs": [
    {
     "data": {
      "text/html": [
       "\n",
       "     <input type=\"file\" id=\"files-5794cc20-1d64-48d5-aa02-fb26354a5d3d\" name=\"files[]\" multiple disabled\n",
       "        style=\"border:none\" />\n",
       "     <output id=\"result-5794cc20-1d64-48d5-aa02-fb26354a5d3d\">\n",
       "      Upload widget is only available when the cell has been executed in the\n",
       "      current browser session. Please rerun this cell to enable.\n",
       "      </output>\n",
       "      <script>// Copyright 2017 Google LLC\n",
       "//\n",
       "// Licensed under the Apache License, Version 2.0 (the \"License\");\n",
       "// you may not use this file except in compliance with the License.\n",
       "// You may obtain a copy of the License at\n",
       "//\n",
       "//      http://www.apache.org/licenses/LICENSE-2.0\n",
       "//\n",
       "// Unless required by applicable law or agreed to in writing, software\n",
       "// distributed under the License is distributed on an \"AS IS\" BASIS,\n",
       "// WITHOUT WARRANTIES OR CONDITIONS OF ANY KIND, either express or implied.\n",
       "// See the License for the specific language governing permissions and\n",
       "// limitations under the License.\n",
       "\n",
       "/**\n",
       " * @fileoverview Helpers for google.colab Python module.\n",
       " */\n",
       "(function(scope) {\n",
       "function span(text, styleAttributes = {}) {\n",
       "  const element = document.createElement('span');\n",
       "  element.textContent = text;\n",
       "  for (const key of Object.keys(styleAttributes)) {\n",
       "    element.style[key] = styleAttributes[key];\n",
       "  }\n",
       "  return element;\n",
       "}\n",
       "\n",
       "// Max number of bytes which will be uploaded at a time.\n",
       "const MAX_PAYLOAD_SIZE = 100 * 1024;\n",
       "\n",
       "function _uploadFiles(inputId, outputId) {\n",
       "  const steps = uploadFilesStep(inputId, outputId);\n",
       "  const outputElement = document.getElementById(outputId);\n",
       "  // Cache steps on the outputElement to make it available for the next call\n",
       "  // to uploadFilesContinue from Python.\n",
       "  outputElement.steps = steps;\n",
       "\n",
       "  return _uploadFilesContinue(outputId);\n",
       "}\n",
       "\n",
       "// This is roughly an async generator (not supported in the browser yet),\n",
       "// where there are multiple asynchronous steps and the Python side is going\n",
       "// to poll for completion of each step.\n",
       "// This uses a Promise to block the python side on completion of each step,\n",
       "// then passes the result of the previous step as the input to the next step.\n",
       "function _uploadFilesContinue(outputId) {\n",
       "  const outputElement = document.getElementById(outputId);\n",
       "  const steps = outputElement.steps;\n",
       "\n",
       "  const next = steps.next(outputElement.lastPromiseValue);\n",
       "  return Promise.resolve(next.value.promise).then((value) => {\n",
       "    // Cache the last promise value to make it available to the next\n",
       "    // step of the generator.\n",
       "    outputElement.lastPromiseValue = value;\n",
       "    return next.value.response;\n",
       "  });\n",
       "}\n",
       "\n",
       "/**\n",
       " * Generator function which is called between each async step of the upload\n",
       " * process.\n",
       " * @param {string} inputId Element ID of the input file picker element.\n",
       " * @param {string} outputId Element ID of the output display.\n",
       " * @return {!Iterable<!Object>} Iterable of next steps.\n",
       " */\n",
       "function* uploadFilesStep(inputId, outputId) {\n",
       "  const inputElement = document.getElementById(inputId);\n",
       "  inputElement.disabled = false;\n",
       "\n",
       "  const outputElement = document.getElementById(outputId);\n",
       "  outputElement.innerHTML = '';\n",
       "\n",
       "  const pickedPromise = new Promise((resolve) => {\n",
       "    inputElement.addEventListener('change', (e) => {\n",
       "      resolve(e.target.files);\n",
       "    });\n",
       "  });\n",
       "\n",
       "  const cancel = document.createElement('button');\n",
       "  inputElement.parentElement.appendChild(cancel);\n",
       "  cancel.textContent = 'Cancel upload';\n",
       "  const cancelPromise = new Promise((resolve) => {\n",
       "    cancel.onclick = () => {\n",
       "      resolve(null);\n",
       "    };\n",
       "  });\n",
       "\n",
       "  // Wait for the user to pick the files.\n",
       "  const files = yield {\n",
       "    promise: Promise.race([pickedPromise, cancelPromise]),\n",
       "    response: {\n",
       "      action: 'starting',\n",
       "    }\n",
       "  };\n",
       "\n",
       "  cancel.remove();\n",
       "\n",
       "  // Disable the input element since further picks are not allowed.\n",
       "  inputElement.disabled = true;\n",
       "\n",
       "  if (!files) {\n",
       "    return {\n",
       "      response: {\n",
       "        action: 'complete',\n",
       "      }\n",
       "    };\n",
       "  }\n",
       "\n",
       "  for (const file of files) {\n",
       "    const li = document.createElement('li');\n",
       "    li.append(span(file.name, {fontWeight: 'bold'}));\n",
       "    li.append(span(\n",
       "        `(${file.type || 'n/a'}) - ${file.size} bytes, ` +\n",
       "        `last modified: ${\n",
       "            file.lastModifiedDate ? file.lastModifiedDate.toLocaleDateString() :\n",
       "                                    'n/a'} - `));\n",
       "    const percent = span('0% done');\n",
       "    li.appendChild(percent);\n",
       "\n",
       "    outputElement.appendChild(li);\n",
       "\n",
       "    const fileDataPromise = new Promise((resolve) => {\n",
       "      const reader = new FileReader();\n",
       "      reader.onload = (e) => {\n",
       "        resolve(e.target.result);\n",
       "      };\n",
       "      reader.readAsArrayBuffer(file);\n",
       "    });\n",
       "    // Wait for the data to be ready.\n",
       "    let fileData = yield {\n",
       "      promise: fileDataPromise,\n",
       "      response: {\n",
       "        action: 'continue',\n",
       "      }\n",
       "    };\n",
       "\n",
       "    // Use a chunked sending to avoid message size limits. See b/62115660.\n",
       "    let position = 0;\n",
       "    do {\n",
       "      const length = Math.min(fileData.byteLength - position, MAX_PAYLOAD_SIZE);\n",
       "      const chunk = new Uint8Array(fileData, position, length);\n",
       "      position += length;\n",
       "\n",
       "      const base64 = btoa(String.fromCharCode.apply(null, chunk));\n",
       "      yield {\n",
       "        response: {\n",
       "          action: 'append',\n",
       "          file: file.name,\n",
       "          data: base64,\n",
       "        },\n",
       "      };\n",
       "\n",
       "      let percentDone = fileData.byteLength === 0 ?\n",
       "          100 :\n",
       "          Math.round((position / fileData.byteLength) * 100);\n",
       "      percent.textContent = `${percentDone}% done`;\n",
       "\n",
       "    } while (position < fileData.byteLength);\n",
       "  }\n",
       "\n",
       "  // All done.\n",
       "  yield {\n",
       "    response: {\n",
       "      action: 'complete',\n",
       "    }\n",
       "  };\n",
       "}\n",
       "\n",
       "scope.google = scope.google || {};\n",
       "scope.google.colab = scope.google.colab || {};\n",
       "scope.google.colab._files = {\n",
       "  _uploadFiles,\n",
       "  _uploadFilesContinue,\n",
       "};\n",
       "})(self);\n",
       "</script> "
      ],
      "text/plain": [
       "<IPython.core.display.HTML object>"
      ]
     },
     "metadata": {},
     "output_type": "display_data"
    },
    {
     "name": "stdout",
     "output_type": "stream",
     "text": [
      "Saving SICU and MICU Triage Notes.xlsx to SICU and MICU Triage Notes.xlsx\n"
     ]
    },
    {
     "data": {
      "text/html": [
       "\n",
       "     <input type=\"file\" id=\"files-f19acd4b-760b-4b8e-bf95-31fd99a77fd3\" name=\"files[]\" multiple disabled\n",
       "        style=\"border:none\" />\n",
       "     <output id=\"result-f19acd4b-760b-4b8e-bf95-31fd99a77fd3\">\n",
       "      Upload widget is only available when the cell has been executed in the\n",
       "      current browser session. Please rerun this cell to enable.\n",
       "      </output>\n",
       "      <script>// Copyright 2017 Google LLC\n",
       "//\n",
       "// Licensed under the Apache License, Version 2.0 (the \"License\");\n",
       "// you may not use this file except in compliance with the License.\n",
       "// You may obtain a copy of the License at\n",
       "//\n",
       "//      http://www.apache.org/licenses/LICENSE-2.0\n",
       "//\n",
       "// Unless required by applicable law or agreed to in writing, software\n",
       "// distributed under the License is distributed on an \"AS IS\" BASIS,\n",
       "// WITHOUT WARRANTIES OR CONDITIONS OF ANY KIND, either express or implied.\n",
       "// See the License for the specific language governing permissions and\n",
       "// limitations under the License.\n",
       "\n",
       "/**\n",
       " * @fileoverview Helpers for google.colab Python module.\n",
       " */\n",
       "(function(scope) {\n",
       "function span(text, styleAttributes = {}) {\n",
       "  const element = document.createElement('span');\n",
       "  element.textContent = text;\n",
       "  for (const key of Object.keys(styleAttributes)) {\n",
       "    element.style[key] = styleAttributes[key];\n",
       "  }\n",
       "  return element;\n",
       "}\n",
       "\n",
       "// Max number of bytes which will be uploaded at a time.\n",
       "const MAX_PAYLOAD_SIZE = 100 * 1024;\n",
       "\n",
       "function _uploadFiles(inputId, outputId) {\n",
       "  const steps = uploadFilesStep(inputId, outputId);\n",
       "  const outputElement = document.getElementById(outputId);\n",
       "  // Cache steps on the outputElement to make it available for the next call\n",
       "  // to uploadFilesContinue from Python.\n",
       "  outputElement.steps = steps;\n",
       "\n",
       "  return _uploadFilesContinue(outputId);\n",
       "}\n",
       "\n",
       "// This is roughly an async generator (not supported in the browser yet),\n",
       "// where there are multiple asynchronous steps and the Python side is going\n",
       "// to poll for completion of each step.\n",
       "// This uses a Promise to block the python side on completion of each step,\n",
       "// then passes the result of the previous step as the input to the next step.\n",
       "function _uploadFilesContinue(outputId) {\n",
       "  const outputElement = document.getElementById(outputId);\n",
       "  const steps = outputElement.steps;\n",
       "\n",
       "  const next = steps.next(outputElement.lastPromiseValue);\n",
       "  return Promise.resolve(next.value.promise).then((value) => {\n",
       "    // Cache the last promise value to make it available to the next\n",
       "    // step of the generator.\n",
       "    outputElement.lastPromiseValue = value;\n",
       "    return next.value.response;\n",
       "  });\n",
       "}\n",
       "\n",
       "/**\n",
       " * Generator function which is called between each async step of the upload\n",
       " * process.\n",
       " * @param {string} inputId Element ID of the input file picker element.\n",
       " * @param {string} outputId Element ID of the output display.\n",
       " * @return {!Iterable<!Object>} Iterable of next steps.\n",
       " */\n",
       "function* uploadFilesStep(inputId, outputId) {\n",
       "  const inputElement = document.getElementById(inputId);\n",
       "  inputElement.disabled = false;\n",
       "\n",
       "  const outputElement = document.getElementById(outputId);\n",
       "  outputElement.innerHTML = '';\n",
       "\n",
       "  const pickedPromise = new Promise((resolve) => {\n",
       "    inputElement.addEventListener('change', (e) => {\n",
       "      resolve(e.target.files);\n",
       "    });\n",
       "  });\n",
       "\n",
       "  const cancel = document.createElement('button');\n",
       "  inputElement.parentElement.appendChild(cancel);\n",
       "  cancel.textContent = 'Cancel upload';\n",
       "  const cancelPromise = new Promise((resolve) => {\n",
       "    cancel.onclick = () => {\n",
       "      resolve(null);\n",
       "    };\n",
       "  });\n",
       "\n",
       "  // Wait for the user to pick the files.\n",
       "  const files = yield {\n",
       "    promise: Promise.race([pickedPromise, cancelPromise]),\n",
       "    response: {\n",
       "      action: 'starting',\n",
       "    }\n",
       "  };\n",
       "\n",
       "  cancel.remove();\n",
       "\n",
       "  // Disable the input element since further picks are not allowed.\n",
       "  inputElement.disabled = true;\n",
       "\n",
       "  if (!files) {\n",
       "    return {\n",
       "      response: {\n",
       "        action: 'complete',\n",
       "      }\n",
       "    };\n",
       "  }\n",
       "\n",
       "  for (const file of files) {\n",
       "    const li = document.createElement('li');\n",
       "    li.append(span(file.name, {fontWeight: 'bold'}));\n",
       "    li.append(span(\n",
       "        `(${file.type || 'n/a'}) - ${file.size} bytes, ` +\n",
       "        `last modified: ${\n",
       "            file.lastModifiedDate ? file.lastModifiedDate.toLocaleDateString() :\n",
       "                                    'n/a'} - `));\n",
       "    const percent = span('0% done');\n",
       "    li.appendChild(percent);\n",
       "\n",
       "    outputElement.appendChild(li);\n",
       "\n",
       "    const fileDataPromise = new Promise((resolve) => {\n",
       "      const reader = new FileReader();\n",
       "      reader.onload = (e) => {\n",
       "        resolve(e.target.result);\n",
       "      };\n",
       "      reader.readAsArrayBuffer(file);\n",
       "    });\n",
       "    // Wait for the data to be ready.\n",
       "    let fileData = yield {\n",
       "      promise: fileDataPromise,\n",
       "      response: {\n",
       "        action: 'continue',\n",
       "      }\n",
       "    };\n",
       "\n",
       "    // Use a chunked sending to avoid message size limits. See b/62115660.\n",
       "    let position = 0;\n",
       "    do {\n",
       "      const length = Math.min(fileData.byteLength - position, MAX_PAYLOAD_SIZE);\n",
       "      const chunk = new Uint8Array(fileData, position, length);\n",
       "      position += length;\n",
       "\n",
       "      const base64 = btoa(String.fromCharCode.apply(null, chunk));\n",
       "      yield {\n",
       "        response: {\n",
       "          action: 'append',\n",
       "          file: file.name,\n",
       "          data: base64,\n",
       "        },\n",
       "      };\n",
       "\n",
       "      let percentDone = fileData.byteLength === 0 ?\n",
       "          100 :\n",
       "          Math.round((position / fileData.byteLength) * 100);\n",
       "      percent.textContent = `${percentDone}% done`;\n",
       "\n",
       "    } while (position < fileData.byteLength);\n",
       "  }\n",
       "\n",
       "  // All done.\n",
       "  yield {\n",
       "    response: {\n",
       "      action: 'complete',\n",
       "    }\n",
       "  };\n",
       "}\n",
       "\n",
       "scope.google = scope.google || {};\n",
       "scope.google.colab = scope.google.colab || {};\n",
       "scope.google.colab._files = {\n",
       "  _uploadFiles,\n",
       "  _uploadFilesContinue,\n",
       "};\n",
       "})(self);\n",
       "</script> "
      ],
      "text/plain": [
       "<IPython.core.display.HTML object>"
      ]
     },
     "metadata": {},
     "output_type": "display_data"
    },
    {
     "name": "stdout",
     "output_type": "stream",
     "text": [
      "Saving Outcome of Patient.xlsx to Outcome of Patient.xlsx\n"
     ]
    }
   ],
   "source": [
    "from google.colab import files\n",
    "uploaded1 = files.upload()\n",
    "uploaded2 = files.upload()"
   ]
  },
  {
   "cell_type": "code",
   "execution_count": 3,
   "metadata": {
    "id": "dVhdW-mipvEF"
   },
   "outputs": [],
   "source": [
    "import pandas as pd"
   ]
  },
  {
   "cell_type": "code",
   "execution_count": 65,
   "metadata": {
    "id": "zveohNNipxS9"
   },
   "outputs": [],
   "source": [
    "triage  = pd.read_excel('SICU and MICU Triage Notes.xlsx')\n",
    "outcome = pd.read_excel('Outcome of Patient.xlsx')\n"
   ]
  },
  {
   "cell_type": "code",
   "execution_count": 66,
   "metadata": {
    "colab": {
     "base_uri": "https://localhost:8080/"
    },
    "collapsed": true,
    "id": "DgD7NvYDrsnO",
    "jupyter": {
     "outputs_hidden": true
    },
    "outputId": "dae52e58-f0af-4103-88de-b73dd35d4428"
   },
   "outputs": [
    {
     "name": "stdout",
     "output_type": "stream",
     "text": [
      "Rows after FY filter: 3318\n",
      "    Authored DateTime         Document Name\n",
      "0 2020-10-07 10:06:00  MICU Triage Note SGH\n",
      "1 2020-12-28 17:02:00  MICU Triage Note SGH\n",
      "2 2020-09-30 09:07:00  MICU Triage Note SGH\n",
      "3 2021-03-11 03:50:00  MICU Triage Note SGH\n",
      "4 2021-01-26 14:52:00  MICU Triage Note SGH\n",
      "Total rows in master: 3377\n"
     ]
    }
   ],
   "source": [
    "raw = pd.read_excel('SICU and MICU Triage Notes.xlsx')\n",
    "\n",
    "# 2) Parse the two pieces and combine\n",
    "raw['Authored Date'] = pd.to_datetime(raw['Authored Date'], dayfirst=False)\n",
    "raw['Authored Time'] = raw['Authored Time'].astype(str)  # ensure string like '14:52:00'\n",
    "raw['Authored DateTime'] = pd.to_datetime(\n",
    "    raw['Authored Date'].dt.date.astype(str) + ' ' + raw['Authored Time']\n",
    ")\n",
    "\n",
    "# 3) Filter by FY2019–20\n",
    "mask = (\n",
    "    (raw['Authored DateTime'] >= '2019-04-01') &\n",
    "    (raw['Authored DateTime'] <= '2021-03-31')\n",
    ")\n",
    "triage = raw.loc[mask].copy()\n",
    "\n",
    "# 4) Verify you now have rows\n",
    "print(\"Rows after FY filter:\", triage.shape[0])\n",
    "print(triage[['Authored DateTime','Document Name']].head())\n",
    "\n",
    "print(\"Total rows in master:\", master.shape[0])"
   ]
  },
  {
   "cell_type": "code",
   "execution_count": 67,
   "metadata": {
    "colab": {
     "base_uri": "https://localhost:8080/"
    },
    "collapsed": true,
    "id": "asaCHeLdtM6b",
    "jupyter": {
     "outputs_hidden": true
    },
    "outputId": "47c8008a-d32c-4389-f1a8-666391aff6ab"
   },
   "outputs": [
    {
     "name": "stdout",
     "output_type": "stream",
     "text": [
      "Total rows in master: 3377\n"
     ]
    }
   ],
   "source": [
    "# 5) Map Document Name → Team\n",
    "triage['Team'] = pd.NA\n",
    "triage.loc[triage['Document Name'].str.contains('SICU', na=False), 'Team'] = 'HERO Team'\n",
    "triage.loc[triage['Document Name'].str.contains('MICU', na=False), 'Team'] = 'SMART Team'\n",
    "\n",
    "print(\"Total rows in master:\", master.shape[0])"
   ]
  },
  {
   "cell_type": "code",
   "execution_count": 68,
   "metadata": {
    "colab": {
     "base_uri": "https://localhost:8080/"
    },
    "id": "Vd0-zYCxtdSN",
    "outputId": "ab220d5e-06f0-41ff-9dfd-5b5518815391"
   },
   "outputs": [
    {
     "name": "stdout",
     "output_type": "stream",
     "text": [
      "Time Category\n",
      "After Hours     1891\n",
      "Office Hours    1427\n",
      "Name: count, dtype: int64\n",
      "Total rows in master: 3377\n"
     ]
    }
   ],
   "source": [
    "ph_dates = [\n",
    "    # FY2019\n",
    "    '2019-04-19','2019-05-01','2019-05-19','2019-05-20',\n",
    "    '2019-06-05','2019-08-09','2019-08-11','2019-08-12',\n",
    "    '2019-10-27','2019-10-28','2019-12-25','2020-01-01',\n",
    "    '2020-01-25','2020-01-26','2020-01-27',\n",
    "    # FY2020\n",
    "    '2020-04-10','2020-05-01','2020-05-07','2020-05-24',\n",
    "    '2020-05-25','2020-07-31','2020-08-09','2020-08-10',\n",
    "    '2020-11-14','2020-12-25','2021-01-01','2021-02-12',\n",
    "    '2021-02-13'\n",
    "]\n",
    "public_holidays = set(pd.to_datetime(ph_dates).date)\n",
    "\n",
    "# 6) Classify Office vs After Hours (using Authored DateTime)\n",
    "triage['Hour']    = triage['Authored DateTime'].dt.hour\n",
    "triage['Weekday'] = triage['Authored DateTime'].dt.weekday  # Monday=0, Sunday=6\n",
    "triage['Date']    = triage['Authored DateTime'].dt.date\n",
    "\n",
    "def time_cat(row):\n",
    "    d = row['Weekday']\n",
    "    h = row['Hour']\n",
    "    dt = row['Date']\n",
    "    # 1) If Sunday or public holiday → After Hours\n",
    "    if d == 6 or dt in public_holidays:\n",
    "        return 'After Hours'\n",
    "    # 2) Otherwise if Mon–Fri 08–17 or Sat 08–12 → Office Hours\n",
    "    if (d < 5 and 8 <= h < 17) or (d == 5 and 8 <= h < 12):\n",
    "        return 'Office Hours'\n",
    "    # 3) Else → After Hours\n",
    "    return 'After Hours'\n",
    "\n",
    "triage['Time Category'] = triage.apply(time_cat, axis=1)\n",
    "\n",
    "# Quick check\n",
    "print(triage['Time Category'].value_counts())\n",
    "\n",
    "print(\"Total rows in master:\", master.shape[0])\n",
    "\n"
   ]
  },
  {
   "cell_type": "code",
   "execution_count": 69,
   "metadata": {
    "colab": {
     "base_uri": "https://localhost:8080/"
    },
    "collapsed": true,
    "id": "vZolTjbRuNko",
    "jupyter": {
     "outputs_hidden": true
    },
    "outputId": "08128669-3153-45cb-9dd0-bc3ffb62badc"
   },
   "outputs": [
    {
     "name": "stdout",
     "output_type": "stream",
     "text": [
      "Rows after FY filter: 3318\n"
     ]
    }
   ],
   "source": [
    "# 7) Merge with outcome\n",
    "outcome = pd.read_excel('Outcome of Patient.xlsx')\n",
    "master = triage.merge(outcome, on='Case No', how='left')\n",
    "print(\"Rows after FY filter:\", triage.shape[0])"
   ]
  },
  {
   "cell_type": "code",
   "execution_count": 70,
   "metadata": {
    "colab": {
     "base_uri": "https://localhost:8080/"
    },
    "id": "dI0I6PKKuahN",
    "outputId": "b64c1138-27ec-4f4a-b856-3dc7fb7f7884"
   },
   "outputs": [
    {
     "name": "stdout",
     "output_type": "stream",
     "text": [
      "Rows after FY filter: 3318\n",
      "Total rows in master: 3377\n"
     ]
    }
   ],
   "source": [
    "\n",
    "# 8) Create FY Month\n",
    "master['FY Month'] = master['Authored DateTime'].dt.to_period('M').astype(str)\n",
    "print(\"Rows after FY filter:\", triage.shape[0])\n",
    "\n",
    "print(\"Total rows in master:\", master.shape[0])"
   ]
  },
  {
   "cell_type": "code",
   "execution_count": 71,
   "metadata": {
    "colab": {
     "base_uri": "https://localhost:8080/"
    },
    "collapsed": true,
    "id": "youG5bMEu76p",
    "jupyter": {
     "outputs_hidden": true
    },
    "outputId": "961ec17e-d77d-4670-f79d-0e7444254ab5"
   },
   "outputs": [
    {
     "name": "stdout",
     "output_type": "stream",
     "text": [
      "Disposition Group\n",
      "GW       1090\n",
      "ICU       827\n",
      "Other     652\n",
      "ICA       631\n",
      "HDU       177\n",
      "Name: count, dtype: int64\n",
      "Total rows in master: 3377\n"
     ]
    }
   ],
   "source": [
    "master['SGH_Disposition'] = (\n",
    "    master['SGH_Disposition']\n",
    "      .astype(str)\n",
    "      .str.strip()\n",
    ")\n",
    "\n",
    "# 2) Define your mapping exactly as per the spec\n",
    "disp_map = {\n",
    "    # General Ward\n",
    "    'GW'       : 'GW',\n",
    "\n",
    "    # Intermediate Care Area\n",
    "    'MICA'     : 'ICA',\n",
    "    'RICA'     : 'ICA',\n",
    "    'NEM ICA'  : 'ICA',\n",
    "\n",
    "    # High‑Dependency Unit\n",
    "    'Burns HD' : 'HDU',\n",
    "    'Iso HD'   : 'HDU',\n",
    "\n",
    "    # Intensive Care Unit\n",
    "    'Iso ICU'  : 'ICU',\n",
    "    'MICU'     : 'ICU',\n",
    "    'SICU'     : 'ICU',\n",
    "    'NESICU'   : 'ICU',\n",
    "    'BICU'     : 'ICU',\n",
    "    'CCU'      : 'ICU',\n",
    "    'CTSICU'   : 'ICU',\n",
    "}\n",
    "\n",
    "# 3) Map and fill any unmapped dispositions as “Other” (or NaN, if you prefer)\n",
    "master['Disposition Group'] = (\n",
    "    master['SGH_Disposition']\n",
    "      .map(disp_map)\n",
    "      .fillna('Other')\n",
    ")\n",
    "\n",
    "# 4) Verify the result\n",
    "print(master['Disposition Group'].value_counts(dropna=False))\n",
    "\n",
    "print(\"Total rows in master:\", master.shape[0])"
   ]
  },
  {
   "cell_type": "code",
   "execution_count": 72,
   "metadata": {
    "colab": {
     "base_uri": "https://localhost:8080/"
    },
    "id": "Mn40Hm-L8L_c",
    "outputId": "8f24ce9e-07b6-4cfd-dca5-05e137b63cec"
   },
   "outputs": [
    {
     "name": "stdout",
     "output_type": "stream",
     "text": [
      "Discharge Group\n",
      "Follow-up at Clinic               1640\n",
      "Death                             1041\n",
      "Residential Stepdown               365\n",
      "Transferred to Other Hospitals      98\n",
      "AOR                                 87\n",
      "Discharged                          79\n",
      "Others                              61\n",
      "Absconded                            6\n",
      "Name: count, dtype: int64\n",
      "Total rows in master: 3377\n"
     ]
    }
   ],
   "source": [
    "# 1) Clean up the raw discharge descriptions\n",
    "master['Discharge Type Description'] = (\n",
    "    master['Discharge Type Description']\n",
    "      .astype(str)\n",
    "      .str.strip()\n",
    "      # normalize hyphens just in case\n",
    "      .str.replace('–', '-', regex=False)\n",
    "      .str.replace('—', '-', regex=False)\n",
    ")\n",
    "\n",
    "# 2) Define the mapping exactly as per your table\n",
    "discharge_map = {\n",
    "    # Death\n",
    "    'Death'                          : 'Death',\n",
    "    'Death - Coroner Case'          : 'Death',\n",
    "\n",
    "    # Follow‑up at Clinic\n",
    "    'Follow-up at SOC'               : 'Follow-up at Clinic',\n",
    "    'Follow-up at PHC Clinic'       : 'Follow-up at Clinic',\n",
    "    'Discharge to Private GP/Specialist': 'Follow-up at Clinic',\n",
    "\n",
    "    # Transferred to Other Hospitals\n",
    "    'Transfer or Discharge to Centres_DisTyp': 'Transferred to Other Hospitals',\n",
    "    'Transfer to Restructured Hospital'      : 'Transferred to Other Hospitals',\n",
    "    'Transfer to Private Hospital'           : 'Transferred to Other Hospitals',\n",
    "\n",
    "    # AOR (Against Medical Advice / Other Refusal)\n",
    "    'Discharge against advice'      : 'AOR',\n",
    "    'AOR - NO SOC F/P'              : 'AOR',\n",
    "\n",
    "    # Residential Stepdown\n",
    "    'Residential Stepdown Facilities': 'Residential Stepdown',\n",
    "\n",
    "    # Others\n",
    "    'Others'                        : 'Others',\n",
    "\n",
    "    # Absconded\n",
    "    'Absconded'                     : 'Absconded',\n",
    "\n",
    "    # Discharged (patient sent home)\n",
    "    'Patient Discharged'            : 'Discharged'\n",
    "}\n",
    "\n",
    "# 3) Map and fill any unmapped as “Others”\n",
    "master['Discharge Group'] = (\n",
    "    master['Discharge Type Description']\n",
    "      .map(discharge_map)\n",
    "      .fillna('Others')\n",
    ")\n",
    "\n",
    "# 4) Verify no blanks remain\n",
    "print(master['Discharge Group'].value_counts(dropna=False))\n",
    "\n",
    "print(\"Total rows in master:\", master.shape[0])"
   ]
  },
  {
   "cell_type": "code",
   "execution_count": 73,
   "metadata": {
    "colab": {
     "base_uri": "https://localhost:8080/"
    },
    "id": "7cCBFUAl8O6X",
    "outputId": "23c518ec-001b-41ed-aece-ad904654dcc8"
   },
   "outputs": [
    {
     "name": "stdout",
     "output_type": "stream",
     "text": [
      "Total rows in master: 3377\n",
      "  Case No         Document Name Authored Date Authored Time SGH_Disposition  \\\n",
      "0   5690G  MICU Triage Note SGH    2020-10-07      10:06:00         Iso ICU   \n",
      "1   4269F  MICU Triage Note SGH    2020-12-28      17:02:00              GW   \n",
      "2   1225E  MICU Triage Note SGH    2020-09-30      09:07:00              GW   \n",
      "3   6166C  MICU Triage Note SGH    2021-03-11      03:50:00         Iso ICU   \n",
      "4   2285D  MICU Triage Note SGH    2021-01-26      14:52:00            MICA   \n",
      "\n",
      "  SGH_Time_Referred   Authored DateTime        Team  Hour  Weekday  \\\n",
      "0             08:38 2020-10-07 10:06:00  SMART Team    10        2   \n",
      "1             16:04 2020-12-28 17:02:00  SMART Team    17        0   \n",
      "2             08:48 2020-09-30 09:07:00  SMART Team     9        2   \n",
      "3             02:55 2021-03-11 03:50:00  SMART Team     3        3   \n",
      "4             14:52 2021-01-26 14:52:00  SMART Team    14        1   \n",
      "\n",
      "         Date Time Category Discharge Type Description FY Month  \\\n",
      "0  2020-10-07  Office Hours         Patient Discharged  2020-10   \n",
      "1  2020-12-28   After Hours           Follow-up at SOC  2020-12   \n",
      "2  2020-09-30  Office Hours           Follow-up at SOC  2020-09   \n",
      "3  2021-03-11   After Hours                      Death  2021-03   \n",
      "4  2021-01-26  Office Hours                      Death  2021-01   \n",
      "\n",
      "  Disposition Group      Discharge Group  \n",
      "0               ICU           Discharged  \n",
      "1                GW  Follow-up at Clinic  \n",
      "2                GW  Follow-up at Clinic  \n",
      "3               ICU                Death  \n",
      "4               ICA                Death  \n",
      "✅ Final Excel created: RRT_Masterfile.xlsx\n"
     ]
    }
   ],
   "source": [
    "raw = raw.dropna(subset=['Case No'], how='all')\n",
    "\n",
    "print(\"Total rows in master:\", master.shape[0])\n",
    "\n",
    "outcome = outcome.drop_duplicates(subset=['Case No'])\n",
    "with pd.ExcelWriter('RRT_Masterfile.xlsx', engine='xlsxwriter') as writer:\n",
    "    master.to_excel(writer,\n",
    "                    sheet_name='Masterfile',\n",
    "                    index=False)\n",
    "print(master.head())\n",
    "print(\"✅ Final Excel created: RRT_Masterfile.xlsx\")"
   ]
  }
 ],
 "metadata": {
  "colab": {
   "provenance": []
  },
  "kernelspec": {
   "display_name": "Python [conda env:base] *",
   "language": "python",
   "name": "conda-base-py"
  },
  "language_info": {
   "codemirror_mode": {
    "name": "ipython",
    "version": 3
   },
   "file_extension": ".py",
   "mimetype": "text/x-python",
   "name": "python",
   "nbconvert_exporter": "python",
   "pygments_lexer": "ipython3",
   "version": "3.12.3"
  }
 },
 "nbformat": 4,
 "nbformat_minor": 4
}
